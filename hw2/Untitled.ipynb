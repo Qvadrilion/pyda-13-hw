{
 "cells": [
  {
   "cell_type": "markdown",
   "metadata": {},
   "source": [
    "# Домашняя работа"
   ]
  },
  {
   "cell_type": "markdown",
   "metadata": {},
   "source": [
    "Задача 1"
   ]
  },
  {
   "cell_type": "code",
   "execution_count": 9,
   "metadata": {},
   "outputs": [
    {
     "name": "stdout",
     "output_type": "stream",
     "text": [
      "Фразы равны\n"
     ]
    }
   ],
   "source": [
    "S1 = 'Насколько проще было бы писать программы, если бы не заказчики'\n",
    "S2 = 'Насколько проще было бы писать программы, если бы не заказчики'\n",
    "if S1 > S2:\n",
    "    print('Фраза 1 длиннее фразы 2')\n",
    "elif S2 > S1:\n",
    "    print('Фраза 2 длиннее фразы 1')\n",
    "else:\n",
    "    print('Фразы равны')"
   ]
  },
  {
   "cell_type": "markdown",
   "metadata": {},
   "source": [
    "Задача 2"
   ]
  },
  {
   "cell_type": "code",
   "execution_count": 14,
   "metadata": {},
   "outputs": [
    {
     "name": "stdout",
     "output_type": "stream",
     "text": [
      "Введите год2456\n",
      "Високосный год\n"
     ]
    }
   ],
   "source": [
    "year = int(input('Введите год'))\n",
    "if year%4 == 0:\n",
    "    print('Високосный год')\n",
    "else:\n",
    "    print('Обычный год')"
   ]
  },
  {
   "cell_type": "markdown",
   "metadata": {},
   "source": [
    "Задача 3"
   ]
  },
  {
   "cell_type": "code",
   "execution_count": 19,
   "metadata": {},
   "outputs": [
    {
     "name": "stdout",
     "output_type": "stream",
     "text": [
      "Введите день29\n",
      "Введите название месяца с большой буквыДекабрь\n",
      "Ваш знак зодиака Козерог\n"
     ]
    }
   ],
   "source": [
    "dd = int(input('Введите день'))\n",
    "mm = input('Введите название месяца с большой буквы')\n",
    "if mm == 'Январь' and dd <= 19:\n",
    "    print('Ваш знак зодиака Козерог')\n",
    "elif mm == 'Январь' and dd >= 20:\n",
    "    print('Ваш знак зодиака Водолей')\n",
    "elif mm == 'Февраль' and dd <= 18:\n",
    "    print('Ваш знак зодиака Водолей')\n",
    "elif mm == 'Февраль' and dd >= 19:\n",
    "    print('Ваш знак зодиака Рыбы')\n",
    "elif mm == 'Март' and dd <= 20:\n",
    "    print('Ваш знак зодиака Рыбы')\n",
    "elif mm == 'Март' and dd >= 21:\n",
    "    print('Ваш знак зодиака Овен')\n",
    "elif mm == 'Апрель' and dd <= 19:\n",
    "    print('Ваш знак зодиака Овен')\n",
    "elif mm =='Апрель' and dd >= 20:\n",
    "    print('Ваш знак зодиака Телец')\n",
    "elif mm == 'Май' and dd <= 20:\n",
    "    print('Ваш знак зодиака Телец')\n",
    "elif mm == 'Май' and dd >= 21:\n",
    "    print('Ваш знак зодиака Близнецы')\n",
    "elif mm == 'Июнь' and dd <= 20:\n",
    "    print('Ваш знак зодиака Близнецы')\n",
    "elif mm == 'Июнь' and dd >= 21:\n",
    "    print('Ваш знак зодиака Рак')\n",
    "elif mm == 'Июль' and dd <= 22:\n",
    "    print('Ваш знак зодиака Рак')\n",
    "elif mm == 'Июль' and dd >=23:\n",
    "    print('Ваш знак зодиака Лев')\n",
    "elif mm == 'Август' and dd <= 22:\n",
    "    print('Ваш знак зодиака Лев')\n",
    "elif mm == 'Август' and dd >= 23:\n",
    "    print('Ваш знак зодиака Дева')\n",
    "elif mm == 'Сентябрь' and dd <= 22:\n",
    "    print('Ваш знак зодиака Дева')\n",
    "elif mm == 'Сентябрь' and dd >= 23:\n",
    "    print('Ваш знак зодиака Весы')\n",
    "elif mm == 'Октябрь' and dd <= 22:\n",
    "    print('Ваш знак зодиака Весы')\n",
    "elif mm == 'Октябрь' and dd >= 23:\n",
    "    print('Ваш знак зодиака Скорпион')\n",
    "elif mm == 'Ноябрь' and dd <= 21:\n",
    "    print('Ваш знак зодиака Скорпион')\n",
    "elif mm == 'Ноябрь' and dd >= 22:\n",
    "    print('Ваш знак зодиака Стрелец')\n",
    "else:\n",
    "    print('Ваш знак зодиака Козерог')"
   ]
  },
  {
   "cell_type": "markdown",
   "metadata": {},
   "source": [
    "Задача 4"
   ]
  },
  {
   "cell_type": "code",
   "execution_count": 20,
   "metadata": {},
   "outputs": [
    {
     "name": "stdout",
     "output_type": "stream",
     "text": [
      "Введите ширину в см45\n",
      "Введите длину в см34\n",
      "Введите высоту в см10\n",
      "Коробка №2\n"
     ]
    }
   ],
   "source": [
    "w = int(input('Введите ширину в см'))\n",
    "l = int(input('Введите длину в см'))\n",
    "h = int(input('Введите высоту в см'))\n",
    "if w < 15 and l < 15 and h < 15:\n",
    "    print('Коробка №1')\n",
    "elif (w > 15 and w < 50) or (l > 15 and l < 50) or (h > 15 and h < 50):\n",
    "    print('Коробка №2')\n",
    "elif l > 200:\n",
    "    print('Упаковка для лыж')\n",
    "else:\n",
    "    print('Стандартная коробка №3')"
   ]
  }
 ],
 "metadata": {
  "kernelspec": {
   "display_name": "Python 3",
   "language": "python",
   "name": "python3"
  },
  "language_info": {
   "codemirror_mode": {
    "name": "ipython",
    "version": 3
   },
   "file_extension": ".py",
   "mimetype": "text/x-python",
   "name": "python",
   "nbconvert_exporter": "python",
   "pygments_lexer": "ipython3",
   "version": "3.8.3"
  }
 },
 "nbformat": 4,
 "nbformat_minor": 4
}
