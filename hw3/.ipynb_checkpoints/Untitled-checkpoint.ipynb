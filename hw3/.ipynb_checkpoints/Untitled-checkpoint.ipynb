{
 "cells": [
  {
   "cell_type": "markdown",
   "metadata": {},
   "source": [
    "# Домашняя работа №3"
   ]
  },
  {
   "cell_type": "markdown",
   "metadata": {},
   "source": [
    "## Задача 1"
   ]
  },
  {
   "cell_type": "code",
   "execution_count": 22,
   "metadata": {},
   "outputs": [
    {
     "name": "stdout",
     "output_type": "stream",
     "text": [
      "Введите слово:return\n",
      "tu\n"
     ]
    }
   ],
   "source": [
    "word = str(input('Введите слово:'))\n",
    "l = len(word)\n",
    "if l%2 == 0:\n",
    "    i = (l//2) - 1\n",
    "    print(word[i:(i+2)])\n",
    "else:\n",
    "    i = l//2\n",
    "    print(word[i])"
   ]
  },
  {
   "cell_type": "markdown",
   "metadata": {},
   "source": [
    "## Задача 2"
   ]
  },
  {
   "cell_type": "code",
   "execution_count": 5,
   "metadata": {},
   "outputs": [
    {
     "name": "stdout",
     "output_type": "stream",
     "text": [
      "Введите число:1\n",
      "Введите число:2\n",
      "Введите число:3\n",
      "Введите число:4\n",
      "Введите число:5\n",
      "Введите число:6\n",
      "Введите число:0\n",
      "Сумма всех введенных чисел: 21\n"
     ]
    }
   ],
   "source": [
    "itog = 0\n",
    "while True:\n",
    "    x = int(input('Введите число:'))\n",
    "    if x != 0:\n",
    "        itog = itog + x\n",
    "    else:\n",
    "        print('Сумма всех введенных чисел:', itog)\n",
    "        break            "
   ]
  },
  {
   "cell_type": "markdown",
   "metadata": {},
   "source": [
    "## Задача 3"
   ]
  },
  {
   "cell_type": "code",
   "execution_count": 18,
   "metadata": {},
   "outputs": [
    {
     "name": "stdout",
     "output_type": "stream",
     "text": [
      "Введите через пробел имена мальчиков:Митя Витя Коля\n",
      "Введите через пробел имена девочек:Света Даша Маша\n",
      "Идеальные пары:\n",
      "Витя и Даша\n",
      "Коля и Маша\n",
      "Митя и Света\n"
     ]
    }
   ],
   "source": [
    "boys = input('Введите через пробел имена мальчиков:').split()\n",
    "girls = input('Введите через пробел имена девочек:').split()\n",
    "if len(boys) != len(girls):\n",
    "    print('Внимание, кто-то может остаться без пары!')\n",
    "else:\n",
    "    boys.sort()\n",
    "    girls.sort()\n",
    "    couples = list(zip(boys, girls))\n",
    "    print('Идеальные пары:')\n",
    "    for line in couples:\n",
    "        boy, girl = line\n",
    "        print(boy, 'и', girl)"
   ]
  },
  {
   "cell_type": "markdown",
   "metadata": {},
   "source": [
    "## Задача 4"
   ]
  },
  {
   "cell_type": "code",
   "execution_count": 44,
   "metadata": {},
   "outputs": [
    {
     "name": "stdout",
     "output_type": "stream",
     "text": [
      "Средняя температура в странах:\n",
      "Thailand - 23.9 °C\n",
      "Germany - 13.8 °C\n",
      "Russia - 3.7 °C\n",
      "Poland - 12.0 °C\n"
     ]
    }
   ],
   "source": [
    "countries_temperature = [\n",
    "['Thailand', [75.2, 77, 78.8, 73.4, 68, 75.2, 77]],\n",
    "['Germany', [57.2, 55.4, 59, 59, 53.6]],\n",
    "['Russia', [35.6, 37.4, 39.2, 41, 42.8, 39.2, 35.6]],\n",
    "['Poland', [50, 50, 53.6, 57.2, 55.4, 55.4]]\n",
    "]\n",
    "print('Средняя температура в странах:')\n",
    "for item in countries_temperature:\n",
    "    print(item[0], '-', round((sum(item[1]) / int(len(item[1])) - 32) / 1.8, 1),'°C')"
   ]
  }
 ],
 "metadata": {
  "kernelspec": {
   "display_name": "Python 3",
   "language": "python",
   "name": "python3"
  },
  "language_info": {
   "codemirror_mode": {
    "name": "ipython",
    "version": 3
   },
   "file_extension": ".py",
   "mimetype": "text/x-python",
   "name": "python",
   "nbconvert_exporter": "python",
   "pygments_lexer": "ipython3",
   "version": "3.8.3"
  }
 },
 "nbformat": 4,
 "nbformat_minor": 4
}
