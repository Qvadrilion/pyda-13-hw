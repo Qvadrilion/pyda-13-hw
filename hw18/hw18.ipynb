{
 "cells": [
  {
   "cell_type": "markdown",
   "metadata": {},
   "source": [
    "# Домашняя работа № 18"
   ]
  },
  {
   "cell_type": "markdown",
   "metadata": {},
   "source": [
    "Смоделировать игру против лотерейного автомата типа “777”. Игрок платит 1 руб., после чего выпадает случайное целое число, равномерно распределенное от 0 до 999. При некоторых значениях числа игрок получает выигрыш (см. справа)\n",
    "\n",
    "Выгодна ли игра игроку?\n",
    "\n",
    "Сколько в среднем приобретает\n",
    "или теряет игрок за одну игру?\n",
    "\n",
    "777: 200 руб\\\n",
    "999: 100 руб\\\n",
    "555: 50 руб\\\n",
    "333: 15 руб\\\n",
    "111: 10 руб\\\n",
    "\\*77: 5 руб\\\n",
    "\\**7: 3 руб\\\n",
    "\\*00: 2 руб\\\n",
    "\\**0: 1 руб\n",
    "\n",
    "\\* – любая цифра"
   ]
  },
  {
   "cell_type": "code",
   "execution_count": 18,
   "metadata": {
    "scrolled": false
   },
   "outputs": [
    {
     "name": "stdout",
     "output_type": "stream",
     "text": [
      "198 1000 0.198 0.213 187\n"
     ]
    }
   ],
   "source": [
    "import numpy as np\n",
    "import re\n",
    "np.random.seed(True)\n",
    "\n",
    "trials = 1000   # Количество попыток\n",
    "successes = 0    # Количество успехов\n",
    "profit = -1000  #выигрыш минус стоимость попыток\n",
    "\n",
    "for i in range(trials):\n",
    "    random_score = np.random.randint(0, 1000) \n",
    "#     if random_score // 100 != 0:\n",
    "    if random_score == 777:\n",
    "        successes += 1\n",
    "        profit += 200 \n",
    "    if random_score == 999:\n",
    "        successes += 1\n",
    "        profit += 100\n",
    "    if random_score == 555:\n",
    "        successes += 1\n",
    "        profit += 50\n",
    "    if random_score == 333:\n",
    "        successes += 1\n",
    "        profit += 15\n",
    "    if random_score == 111:\n",
    "        successes += 1\n",
    "        profit += 10\n",
    "    if (random_score % 100 == 77) & (random_score != 777):\n",
    "        successes += 1\n",
    "        profit += 5\n",
    "    if (random_score % 10 == 7) & (random_score % 100 != 77):\n",
    "        successes += 1\n",
    "        profit += 3\n",
    "    if random_score % 100 == 0:\n",
    "        successes += 1\n",
    "        profit += 2\n",
    "    if (random_score % 10 == 0) & (random_score % 100 != 0):\n",
    "        successes += 1\n",
    "        profit += 1\n",
    "  \n",
    "        \n",
    "p_monte_carlo = successes / trials    # Вероятность из моделирования\n",
    "p = (1 / 1000) * 5 + 9 / 1000 + 90 / 1000 + 9 / 1000 + 100 / 1000   # Теоретическая вероятность\n",
    "\n",
    "print(successes, trials, p_monte_carlo, p, profit)"
   ]
  },
  {
   "cell_type": "code",
   "execution_count": 3,
   "metadata": {},
   "outputs": [
    {
     "name": "stdout",
     "output_type": "stream",
     "text": [
      "90\n"
     ]
    }
   ],
   "source": [
    "# количество значений, которые заканчиваются на 7\n",
    "j = 0\n",
    "for i in range(1000):\n",
    "    if (i%10 == 7) & (i != 777) & (i%100 != 77):\n",
    "        j += 1\n",
    "#         print(i)\n",
    "print(j)"
   ]
  },
  {
   "cell_type": "code",
   "execution_count": 5,
   "metadata": {},
   "outputs": [
    {
     "name": "stdout",
     "output_type": "stream",
     "text": [
      "100\n"
     ]
    }
   ],
   "source": [
    "# количество значений, которые заканчиваются на 0\n",
    "j = 0\n",
    "for i in range(1000):\n",
    "    if (i%10 == 0):\n",
    "        j += 1\n",
    "#         print(i)\n",
    "print(j)"
   ]
  },
  {
   "cell_type": "markdown",
   "metadata": {},
   "source": [
    "Проведя измерения несколько раз получаем значение вероятности успешной игры по методу Монте-Карло: примерно 0.2, это соответствует рассчитанному значению теоретической вероятности. <br>\n",
    "Из этого следует, что успех менее чем в 50% случаев и игра не выгодна. Особенно с учетом что за каждую игру игрок платит 1 руб."
   ]
  },
  {
   "cell_type": "code",
   "execution_count": 20,
   "metadata": {},
   "outputs": [
    {
     "name": "stdout",
     "output_type": "stream",
     "text": [
      "В среднем игрок приобретает/теряет сумму: -7.979\n"
     ]
    }
   ],
   "source": [
    "# рассчитаем среднее значение\n",
    "# суммируем произведения возможных исходов игры на их вероятность, учитываем что в случае проигрышных исходов игрок теряет 1 руб. \n",
    "\n",
    "X = (1 / 1000) * (200 + 100 + 50 + 15 + 10) + (9 / 1000) * 5 + (90 / 1000) * 3 + (9 / 1000) * 2 + 100 / 1000 - 5 * (1 - 1 / 1000) - (1 - 9 / 1000) - (1 - 90 / 1000) - (1 - 100 / 1000) - (1 - 9 / 1000)\n",
    "print('В среднем игрок приобретает/теряет сумму:', X) "
   ]
  }
 ],
 "metadata": {
  "kernelspec": {
   "display_name": "Python 3",
   "language": "python",
   "name": "python3"
  },
  "language_info": {
   "codemirror_mode": {
    "name": "ipython",
    "version": 3
   },
   "file_extension": ".py",
   "mimetype": "text/x-python",
   "name": "python",
   "nbconvert_exporter": "python",
   "pygments_lexer": "ipython3",
   "version": "3.8.3"
  }
 },
 "nbformat": 4,
 "nbformat_minor": 4
}
