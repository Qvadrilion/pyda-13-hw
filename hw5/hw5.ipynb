{
 "cells": [
  {
   "cell_type": "markdown",
   "metadata": {},
   "source": [
    "# Домашняя работа № 5"
   ]
  },
  {
   "cell_type": "code",
   "execution_count": 5,
   "metadata": {},
   "outputs": [
    {
     "name": "stdout",
     "output_type": "stream",
     "text": [
      "Введите команду:s\n",
      "Введите номер документа:4566\n",
      "Документ не найден в базе\n",
      "Введите команду:11-2\n",
      "Введите корректную программу: s, p, l, as или ds. Для завершения работы введите q\n",
      "Введите команду:q\n",
      "Спасибо, что воспользовались нашей программой! До свидания :)\n"
     ]
    }
   ],
   "source": [
    "documents = [\n",
    "{'type': 'passport', 'number': '2207 876234', 'name': 'Василий Гупкин'},\n",
    "{'type': 'invoice', 'number': '11-2', 'name': 'Геннадий Покемонов'},\n",
    "{'type': 'insurance', 'number': '10006', 'name': 'Аристарх Павлов'}\n",
    "]\n",
    "directories = {\n",
    "'1': ['2207 876234', '11-2'],\n",
    "'2': ['10006'],\n",
    "'3': []\n",
    "}\n",
    "\n",
    "def doc_owner(documents):\n",
    "    doc_num = input('Введите номер документа:')\n",
    "    i = 0\n",
    "    for persons in documents:\n",
    "        if doc_num in persons.values():\n",
    "            return print('Владелец документа:', persons['name'])\n",
    "            break\n",
    "        else: \n",
    "            i += 1\n",
    "        if i == len(documents):\n",
    "            return print('Документ не найден в базе')\n",
    "\n",
    "\n",
    "def doc_shelf(directories):\n",
    "    doc_num = input('Введите номер документа:')\n",
    "    i = 0\n",
    "    for shelf_num in directories:\n",
    "        if doc_num in directories[shelf_num]:\n",
    "            return print('Документ хранится на полке:', shelf_num)\n",
    "            break\n",
    "        else:\n",
    "            i += 1\n",
    "        if i == len(directories):\n",
    "            return print('Документ не найден в базе')\n",
    "\n",
    "def full_info(directories, documents):\n",
    "    for shelf_num in directories:\n",
    "        for person in documents:\n",
    "            if person['number'] in directories[shelf_num]:\n",
    "                person['shelf'] = shelf_num\n",
    "                print('№: ', person['number'], ', тип: ', person['type'], ', владелец: ', person['name'], ', полка хранения: ', person['shelf'], sep = '')\n",
    "\n",
    "def add_shelf(directories):\n",
    "    new_shelf_num = input('Введите номер полки:')\n",
    "    if new_shelf_num not in directories.keys():\n",
    "        directories[new_shelf_num] = []\n",
    "        return print('Полка добавлена. Текущий перечень полок:', ','.join(list(directories.keys())))\n",
    "    else:\n",
    "        return print('Такая полка уже существует. Текущий перечень полок:', ','.join(list(directories.keys())))\n",
    "\n",
    "def del_shelf(directories):\n",
    "    del_shelf_num = input('Введите номер полки:')\n",
    "    if del_shelf_num in list(directories.keys()) and directories[del_shelf_num] == []:\n",
    "        del(directories[del_shelf_num])\n",
    "        print('Полка удалена. Текущий перечень полок:', ','.join(list(directories.keys())))\n",
    "    elif del_shelf_num in list(directories.keys()) and directories[del_shelf_num] != []:\n",
    "        print('На полке есть документы, удалите их перед удалением полки. Текущий перечень полок:', ','.join(list(directories.keys())))\n",
    "    else:\n",
    "        print('Такой полки не существует. Текущий перечень полок:', ','.join(list(directories.keys())))\n",
    "    \n",
    "while True:\n",
    "    use_command = input('Введите команду:')\n",
    "    if use_command == 'p':\n",
    "        doc_owner(documents)\n",
    "    elif use_command == 's':\n",
    "        doc_shelf(directories)\n",
    "    elif use_command == 'l':\n",
    "        full_info(directories, documents)\n",
    "    elif use_command == 'as':\n",
    "        add_shelf(directories)\n",
    "    elif use_command == 'ds':\n",
    "        del_shelf(directories)\n",
    "    elif use_command == 'q':\n",
    "        print('Спасибо, что воспользовались нашей программой! До свидания :)')\n",
    "        break\n",
    "    else:\n",
    "        print('Введите корректную программу: s, p, l, as или ds. Для завершения работы введите q')"
   ]
  },
  {
   "cell_type": "code",
   "execution_count": null,
   "metadata": {},
   "outputs": [],
   "source": []
  }
 ],
 "metadata": {
  "kernelspec": {
   "display_name": "Python 3",
   "language": "python",
   "name": "python3"
  },
  "language_info": {
   "codemirror_mode": {
    "name": "ipython",
    "version": 3
   },
   "file_extension": ".py",
   "mimetype": "text/x-python",
   "name": "python",
   "nbconvert_exporter": "python",
   "pygments_lexer": "ipython3",
   "version": "3.8.3"
  }
 },
 "nbformat": 4,
 "nbformat_minor": 4
}
